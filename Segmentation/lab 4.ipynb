{
 "cells": [
  {
   "cell_type": "markdown",
   "id": "84417cc3",
   "metadata": {},
   "source": [
    "## Image Segmentation"
   ]
  },
  {
   "cell_type": "markdown",
   "id": "8afbdecb",
   "metadata": {},
   "source": [
    "### Imports"
   ]
  },
  {
   "cell_type": "code",
   "execution_count": null,
   "id": "9f5a0595",
   "metadata": {},
   "outputs": [],
   "source": [
    "import numpy as np\n",
    "import matplotlib.pyplot as plt\n",
    "import matplotlib.image as mpimg\n",
    "\n",
    "from scipy import ndimage as ndi\n",
    "from skimage.morphology import watershed\n",
    "from skimage.feature import peak_local_max\n",
    "from sklearn.cluster import MeanShift\n",
    "# Required to calculate Dice Similarity Coefficient\n",
    "\n",
    "from PIL import Image\n",
    "\n",
    "# Reduce size of original image to reduce computation time\n",
    "size = # change here"
   ]
  },
  {
   "cell_type": "markdown",
   "id": "74c4e12e",
   "metadata": {},
   "source": [
    "#### Function for displaying images"
   ]
  },
  {
   "cell_type": "code",
   "execution_count": null,
   "id": "9d516e4f",
   "metadata": {},
   "outputs": [],
   "source": [
    "def plot_two_images(figure_title, image1, label1, image2, label2, \n",
    "                    cmap1=None, cmap2=None):\n",
    "    \n",
    "    fig = plt.figure()\n",
    "    fig.suptitle(figure_title)\n",
    "\n",
    "    # Display the first image\n",
    "    fig.add_subplot(1, 2, 1)\n",
    "    plt.imshow(image1, cmap = cmap1)\n",
    "    plt.axis('off')\n",
    "    plt.title(label1)\n",
    "\n",
    "    # Display the second image\n",
    "    fig.add_subplot(1, 2, 2)\n",
    "    plt.imshow(image2, cmap = cmap2)\n",
    "    plt.axis('off')\n",
    "    plt.title(label2)\n",
    "\n",
    "    plt.show()"
   ]
  },
  {
   "cell_type": "markdown",
   "id": "47a76e88",
   "metadata": {},
   "source": [
    "#### Function for applying MeanShift algorithm"
   ]
  },
  {
   "cell_type": "code",
   "execution_count": null,
   "id": "d653fc90",
   "metadata": {},
   "outputs": [],
   "source": [
    "def apply_meanshift(img):\n",
    "    \n",
    "    # TODO: Apply MeanShift to image\n",
    "    # Consider the following hints as per the lab specification\n",
    "\n",
    "    # Step 1 - Extract the three RGB colour channels\n",
    "    \n",
    "    \n",
    "    # Step 2 - Store original image shape to be used later in resizing\n",
    "    # Combine the three colour channels by flattening each channel\n",
    "    # Then stack the flattened channels together\n",
    "    # This gives the \"colour_samples\"\n",
    "    colour_samples = []\n",
    "    \n",
    "    \n",
    "    # Step 3 - Perform MeanShift clustering\n",
    "    # For larger images this may take a few minutes to compute\n",
    "    ms_clf = MeanShift(bin_seeding=True)\n",
    "    ms_labels = ms_clf.fit_predict(colour_samples)\n",
    "\n",
    "    # Step 4 - Reshape ms_labels back to the original image shape\n",
    "    # for displaying the segmentation output\n",
    "    ms_labels = []\n",
    "\n",
    "    return ms_labels"
   ]
  },
  {
   "cell_type": "markdown",
   "id": "640dbfe2",
   "metadata": {},
   "source": [
    "#### Function for applying Watershed algorithm"
   ]
  },
  {
   "cell_type": "code",
   "execution_count": null,
   "id": "9e067eaa",
   "metadata": {},
   "outputs": [],
   "source": [
    "def apply_watershed(img, threshold=None, plotDistTransform = False):\n",
    "    \n",
    "    # TODO: Apply Watershed to image\n",
    "    # Consider the following hints as per the lab specification\n",
    "    \n",
    "    # Convert to binary image (note: can also use cv thresholding)\n",
    "    if threshold is not None:\n",
    "        img_grey = img_grey.point(lambda x: 0 if x < threshold else 255, '1')\n",
    "\n",
    "    # Step 1 - Convert the image to grayscale and then binary\n",
    "    # and convert the image to a numpy matrix\n",
    "    img_grey = \n",
    "    img_array = \n",
    "    \n",
    "    # Step 2 - Calculate the distance transform\n",
    "    # Hint: Use ndi.distance_transform_edt(img_array)\n",
    "    distance = []\n",
    "\n",
    "    # Remember to plot distance transform for Task 2\n",
    "    \n",
    "    # Step 3 - Generate the Watershed markers\n",
    "    # Hint: Use the peak_local_max() function from the skimage.feature library\n",
    "    # to get the local maximum values and then convert them to markers\n",
    "    # Remember to change the local search region for good segmentation results\n",
    "    # using ndi.label() (note the markers are the 0th output of this function)\n",
    "    local_max = []\n",
    "    markers = []\n",
    "    \n",
    "    # Step 4 - Perform Watershed and store the labels\n",
    "    # Hint: Use the watershed() function from the skimage.morphology library\n",
    "    # with three inputs: -distance, markers and your image array as a mask\n",
    "    ws_labels = []\n",
    "    \n",
    "    return ws_labels, distance"
   ]
  },
  {
   "cell_type": "markdown",
   "id": "734afc11",
   "metadata": {},
   "source": [
    "### Q1. Use the MeanShift algorithm for image segmentation"
   ]
  },
  {
   "cell_type": "code",
   "execution_count": null,
   "id": "4c2b5fa4",
   "metadata": {},
   "outputs": [],
   "source": [
    "# Specify path to the test image\n",
    "img_path = 'Eggs.png'\n",
    "\n",
    "# Read image\n",
    "img = Image.open(img_path)\n",
    "img.thumbnail(size)\n",
    "\n",
    "# Apply MeanShift algorithm to the image\n",
    "ms_labels = # change here\n",
    "\n",
    "# Read and plot the original image and MeanShift result\n",
    "img = # change here\n",
    "\n",
    "plot_two_images(img_path, img, \"Image\", ms_labels, \"MeanShift Labels\")"
   ]
  },
  {
   "cell_type": "markdown",
   "id": "c6665d53",
   "metadata": {},
   "source": [
    "### Q2. Use Watershed transformation for image segmentation"
   ]
  },
  {
   "cell_type": "code",
   "execution_count": null,
   "id": "146796e6",
   "metadata": {},
   "outputs": [],
   "source": [
    "# Read image from img_path as specified above\n",
    "img = Image.open(img_path)\n",
    "img.thumbnail(size)\n",
    "\n",
    "# Apply Watershed algorithm (remember to plot distance transform as well)\n",
    "ws_labels, distance = # Change here\n",
    "\n",
    "# Read the original image\n",
    "img = # change here\n",
    "\n",
    "plot_two_images(img_path, img, \"Image\", ws_labels, \"Watershed Labels\")"
   ]
  },
  {
   "cell_type": "markdown",
   "id": "fb1ef692",
   "metadata": {},
   "source": [
    "### Q3. Compare MeanShift and Watershed segmentation results"
   ]
  },
  {
   "cell_type": "code",
   "execution_count": null,
   "id": "c50e3683",
   "metadata": {},
   "outputs": [],
   "source": [
    "# List of MaskX.png images\n",
    "MaskX = ['Mask{}.png'.format(str(idx)) for idx in range(1,7)]\n",
    "\n",
    "# Generate list of unique MeanShift labels and corresponding label image masks\n",
    "lbl_ms_unique = np.unique(ms_labels)\n",
    "ms_masks =\n",
    "\n",
    "# Generate list of unique Watershed labels and corresponding label image masks\n",
    "# Hint: Make sure you have generated reasonable watershed segmentation results\n",
    "lbl_ws_unique = np.unique(ws_labels)\n",
    "ws_masks =\n",
    "\n",
    "# Iterate over MaskX.png images and calculate DSC\n",
    "for each_maskx_image in MaskX:\n",
    "    # Read each MaskX.png image\n",
    "    im1 = Image.open(each_maskx_image)\n",
    "    im1.thumbnail(size)\n",
    "\n",
    "    # Check DSC for each MeanShift label\n",
    "    \n",
    "    # Check DSC for each Watershed label\n"
   ]
  },
  {
   "cell_type": "code",
   "execution_count": null,
   "id": "a17642db",
   "metadata": {},
   "outputs": [],
   "source": []
  }
 ],
 "metadata": {
  "kernelspec": {
   "display_name": "Python 3 (ipykernel)",
   "language": "python",
   "name": "python3"
  },
  "language_info": {
   "codemirror_mode": {
    "name": "ipython",
    "version": 3
   },
   "file_extension": ".py",
   "mimetype": "text/x-python",
   "name": "python",
   "nbconvert_exporter": "python",
   "pygments_lexer": "ipython3",
   "version": "3.9.7"
  }
 },
 "nbformat": 4,
 "nbformat_minor": 5
}
