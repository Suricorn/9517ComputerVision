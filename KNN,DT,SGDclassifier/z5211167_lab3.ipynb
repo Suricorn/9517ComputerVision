{
 "cells": [
  {
   "cell_type": "markdown",
   "id": "1c3903fa-ecb8-4c78-9254-6f7409c53a3c",
   "metadata": {},
   "source": [
    "Step 1: Import relevant packages"
   ]
  },
  {
   "cell_type": "code",
   "execution_count": 1,
   "id": "2e029f41-cde4-4c9b-8901-95171eec9db3",
   "metadata": {},
   "outputs": [],
   "source": [
    "import numpy as np\n",
    "np.set_printoptions(threshold=np.inf)\n",
    "np.set_printoptions(linewidth=np.inf)\n",
    "import matplotlib.pyplot as plt\n",
    "\n",
    "from sklearn.neighbors import KNeighborsClassifier\n",
    "from sklearn.tree import DecisionTreeClassifier\n",
    "from sklearn.linear_model import SGDClassifier\n",
    "\n",
    "from tensorflow.keras.datasets import fashion_mnist\n",
    "from sklearn.model_selection import train_test_split"
   ]
  },
  {
   "cell_type": "markdown",
   "id": "2235c495-0f56-4d3b-b80b-f4b70cc3a94d",
   "metadata": {},
   "source": [
    "Step 2: Load the Fashion-MNIST dataset"
   ]
  },
  {
   "cell_type": "code",
   "execution_count": 2,
   "id": "a8726df6-9799-4f51-bad2-e7cc9c9608f6",
   "metadata": {},
   "outputs": [],
   "source": [
    "(x_train, y_train), (x_test, y_test) = fashion_mnist.load_data()\n",
    "X = np.append(x_train, x_test, axis=0)\n",
    "y = np.append(y_train, y_test, axis=0)"
   ]
  },
  {
   "cell_type": "markdown",
   "id": "fe57901a-725c-4bfc-b1ef-5e9919c83d61",
   "metadata": {},
   "source": [
    "Step 3: Take a subset of the data set (3,000 for training and 1,000 for testing)"
   ]
  },
  {
   "cell_type": "code",
   "execution_count": 3,
   "id": "23190199-f5d9-4b6e-b324-6798c0fb5430",
   "metadata": {},
   "outputs": [],
   "source": [
    "X_train, X_test, y_train, y_test = train_test_split(X, y, test_size=1000, train_size=3000)"
   ]
  },
  {
   "cell_type": "markdown",
   "id": "719a9692-e490-440e-b31e-9b93d530769e",
   "metadata": {},
   "source": [
    "Step 4: Perform necessary reshaping of the data for the classifiers"
   ]
  },
  {
   "cell_type": "code",
   "execution_count": 4,
   "id": "ee0e0e7b-7532-46e9-acc5-a7d6316d0f2d",
   "metadata": {},
   "outputs": [],
   "source": [
    "X_train = X_train.reshape((3000, 28*28))\n",
    "X_test = X_test.reshape((1000, 28*28))"
   ]
  },
  {
   "cell_type": "markdown",
   "id": "25234f3f-59e2-46a7-b16d-e153433d2718",
   "metadata": {},
   "source": [
    "Step 5: Initialise the classifier model"
   ]
  },
  {
   "cell_type": "code",
   "execution_count": 5,
   "id": "f4d17193-d369-41b3-bf16-ee515d721300",
   "metadata": {},
   "outputs": [],
   "source": [
    "neigh = KNeighborsClassifier(weights=\"distance\", n_neighbors=5, p=1)\n",
    "clf = DecisionTreeClassifier(criterion=\"entropy\", max_depth=10, splitter=\"best\")\n",
    "sgd = SGDClassifier(loss=\"hinge\", penalty=\"l2\")"
   ]
  },
  {
   "cell_type": "markdown",
   "id": "ed96d430-39e7-438e-934a-b34f860c727c",
   "metadata": {},
   "source": [
    "Step 6: Fit the model to the training data"
   ]
  },
  {
   "cell_type": "code",
   "execution_count": 6,
   "id": "43a33962-8ba8-4c6b-834f-c32ccb0bed52",
   "metadata": {},
   "outputs": [],
   "source": [
    "neigh = neigh.fit(X_train, y_train)\n",
    "clf = clf.fit(X_train, y_train)\n",
    "sgd = sgd.fit(X_train, y_train)"
   ]
  },
  {
   "cell_type": "markdown",
   "id": "c76cf7d1-88a1-4146-a00c-08de61e95d28",
   "metadata": {},
   "source": [
    "Step 7: Use the trained/fitted model to evaluate the testing data"
   ]
  },
  {
   "cell_type": "code",
   "execution_count": 7,
   "id": "c5f1a8d1-766e-4b16-8bab-3ebafc0c4fdb",
   "metadata": {},
   "outputs": [],
   "source": [
    "y_neight = neigh.predict(X_test)\n",
    "y_clf = clf.predict(X_test)\n",
    "y_sgd = sgd.predict(X_test)"
   ]
  },
  {
   "cell_type": "markdown",
   "id": "dfe9e207-a187-429f-b6f7-4a0cd8d2cc01",
   "metadata": {},
   "source": [
    "Step 8: Report the performance of each classifier"
   ]
  },
  {
   "cell_type": "code",
   "execution_count": 8,
   "id": "fb023d45-9b57-453a-ba01-193b72384142",
   "metadata": {},
   "outputs": [
    {
     "name": "stdout",
     "output_type": "stream",
     "text": [
      "K-Nearest Neighbours (KNN) Algorithm\n",
      "  accuracy: 0.809\n",
      "  precision: [0.74311927 0.96226415 0.62886598 0.8411215  0.64444444 0.97979798 0.58064516 0.87619048 0.93103448 0.86915888]\n",
      "  recall: [0.81       0.95327103 0.64893617 0.8490566  0.65909091 0.85087719 0.5046729  0.93877551 0.92045455 0.94897959]\n",
      "  f1: [0.77511962 0.95774648 0.63874346 0.84507042 0.65168539 0.91079812 0.54       0.90640394 0.92571429 0.90731707]\n",
      "  confusion matrix: \n",
      "[[ 81   0   2   6   1   0   8   0   2   0]\n",
      " [  1 102   1   2   0   0   1   0   0   0]\n",
      " [  4   0  61   1   9   0  19   0   0   0]\n",
      " [  2   3   2  90   8   0   1   0   0   0]\n",
      " [  0   1  17   3  58   0   9   0   0   0]\n",
      " [  0   0   0   0   0  97   0   7   2   8]\n",
      " [ 21   0  13   4  13   0  54   0   2   0]\n",
      " [  0   0   0   0   0   1   0  92   0   5]\n",
      " [  0   0   1   1   1   0   1   2  81   1]\n",
      " [  0   0   0   0   0   1   0   4   0  93]]\n",
      "\n",
      "\n",
      "\n",
      "Decision Tree (DT) Algorithm\n",
      "  accuracy: 0.744\n",
      "  precision: [0.74712644 0.87719298 0.625      0.71171171 0.63736264 0.82857143 0.5060241  0.82       0.79591837 0.83838384]\n",
      "  recall: [0.65       0.93457944 0.74468085 0.74528302 0.65909091 0.76315789 0.39252336 0.83673469 0.88636364 0.84693878]\n",
      "  f1: [0.69518717 0.90497738 0.67961165 0.7281106  0.64804469 0.79452055 0.44210526 0.82828283 0.83870968 0.84263959]\n",
      "  confusion matrix: \n",
      "[[ 65   3   2   8   1   0  19   0   2   0]\n",
      " [  0 100   2   4   0   1   0   0   0   0]\n",
      " [  1   1  70   3  11   0   6   0   2   0]\n",
      " [  3   8   3  79   4   0   8   0   1   0]\n",
      " [  1   1  14   6  58   0   7   0   1   0]\n",
      " [  0   1   0   0   0  87   0  10   6  10]\n",
      " [ 15   0  19   9  14   0  42   0   8   0]\n",
      " [  0   0   0   0   0  10   0  82   0   6]\n",
      " [  2   0   1   2   3   1   1   0  78   0]\n",
      " [  0   0   1   0   0   6   0   8   0  83]]\n",
      "\n",
      "\n",
      "\n",
      "Stochastic Gradient Descent (SGD) Algorithm\n",
      "  accuracy: 0.779\n",
      "  precision: [0.71171171 0.9537037  0.58730159 0.79411765 0.65306122 0.9625     0.70175439 0.83673469 0.88297872 0.76190476]\n",
      "  recall: [0.79       0.96261682 0.78723404 0.76415094 0.72727273 0.6754386  0.37383178 0.83673469 0.94318182 0.97959184]\n",
      "  f1: [0.74881517 0.95813953 0.67272727 0.77884615 0.68817204 0.79381443 0.48780488 0.83673469 0.91208791 0.85714286]\n",
      "  confusion matrix: \n",
      "[[ 79   2   5   5   0   0   6   0   2   1]\n",
      " [  0 103   1   3   0   0   0   0   0   0]\n",
      " [  4   0  74   0  11   0   4   0   1   0]\n",
      " [ 10   3   3  81   8   0   1   0   0   0]\n",
      " [  1   0  14   4  64   0   4   0   1   0]\n",
      " [  0   0   1   1   1  77   1  14   3  16]\n",
      " [ 16   0  26   7  14   0  40   0   4   0]\n",
      " [  0   0   0   0   0   3   0  82   0  13]\n",
      " [  1   0   2   1   0   0   1   0  83   0]\n",
      " [  0   0   0   0   0   0   0   2   0  96]]\n",
      "\n",
      "\n",
      "\n"
     ]
    }
   ],
   "source": [
    "\n",
    "from sklearn.model_selection import cross_val_score\n",
    "from sklearn.metrics import confusion_matrix\n",
    "# from sklearn.metrics import ConfusionMatrixDisplay\n",
    "from sklearn.metrics import classification_report\n",
    "from sklearn.metrics import accuracy_score\n",
    "from sklearn.metrics import precision_score\n",
    "from sklearn.metrics import recall_score\n",
    "from sklearn.metrics import f1_score\n",
    "\n",
    "def report(y_true, y_pred, title):\n",
    "    accuracy = accuracy_score(y_true, y_pred)\n",
    "    precision = precision_score(y_true, y_pred, average=None)\n",
    "    recall = recall_score(y_true, y_pred, average=None)\n",
    "    f1 = f1_score(y_true, y_pred, average=None)\n",
    "    \n",
    "    cm = confusion_matrix(y_true, y_pred)\n",
    "    \n",
    "    print(title)\n",
    "    print(\"  accuracy: {}\".format(accuracy))\n",
    "    print(\"  precision: {}\".format(precision))\n",
    "    print(\"  recall: {}\".format(recall))\n",
    "    print(\"  f1: {}\".format(f1))\n",
    "    print(\"  confusion matrix: \\n{}\\n\\n\\n\".format(cm))\n",
    "    \n",
    "report(y_test, y_neight, \"K-Nearest Neighbours (KNN) Algorithm\")\n",
    "report(y_test, y_clf, \"Decision Tree (DT) Algorithm\")\n",
    "report(y_test, y_sgd, \"Stochastic Gradient Descent (SGD) Algorithm\")"
   ]
  },
  {
   "cell_type": "code",
   "execution_count": null,
   "id": "6547c3b0-cfb4-4ec0-adb4-dc9682853e8b",
   "metadata": {},
   "outputs": [],
   "source": []
  }
 ],
 "metadata": {
  "kernelspec": {
   "display_name": "Python 3 (ipykernel)",
   "language": "python",
   "name": "python3"
  },
  "language_info": {
   "codemirror_mode": {
    "name": "ipython",
    "version": 3
   },
   "file_extension": ".py",
   "mimetype": "text/x-python",
   "name": "python",
   "nbconvert_exporter": "python",
   "pygments_lexer": "ipython3",
   "version": "3.8.10"
  }
 },
 "nbformat": 4,
 "nbformat_minor": 5
}
